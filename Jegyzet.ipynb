{
 "cells": [
  {
   "cell_type": "code",
   "execution_count": null,
   "id": "5cdb0286",
   "metadata": {},
   "outputs": [],
   "source": []
  },
  {
   "cell_type": "code",
   "execution_count": null,
   "id": "8b745c9a",
   "metadata": {},
   "outputs": [],
   "source": []
  },
  {
   "cell_type": "markdown",
   "id": "c4ad699b",
   "metadata": {},
   "source": [
    "## 🔁 Mit írtál le?\n",
    "\n",
    "Egy adaptív szabályozási rendszert, ahol:\n",
    "\n",
    "* Egy **LTI állapotmodell** van:\n",
    "\n",
    "  $$\n",
    "  x[k+1] = A x[k] + B u[k]  \n",
    "  \\quad\\text{és}\\quad\n",
    "  y[k] = C x[k] + D u[k]\n",
    "  $$\n",
    "* Az akció (\\$u\\[k]\\$) **mindig a referencia-értékhez legjobban illeszkedő** kimenetet próbálja elérni,\n",
    "* A rendszer **megfigyeli a hatást**, és az eltérés alapján:\n",
    "\n",
    "  * a \\$A\\$, \\$B\\$, \\$C\\$, \\$D\\$ mátrixokat **iteratívan becsüli** (pl. least squares),\n",
    "* Így a modell **autonóm módon bejárja az állapot–bemenet–kimenet teret**,\n",
    "* A tanulás **nem egy különálló lépés**, hanem **folyamatos, zárt hurkú folyamat**.\n",
    "\n",
    "---\n",
    "\n",
    "## 📉 Tehát ez egy **önvezérelt tanulás**, ami:\n",
    "\n",
    "* **döntéseket hoz**, hogy **jobb teljesítményt érjen el**,\n",
    "* és közben **frissíti a belső reprezentációját** (a modell paramétereit).\n",
    "\n",
    "Ez a dinamika — **a rendszer által bejárt trajektória a tanulás során** — nagyon hasonlít a reinforcement learning viselkedéséhez."
   ]
  },
  {
   "cell_type": "code",
   "execution_count": null,
   "id": "0493dc65",
   "metadata": {},
   "outputs": [],
   "source": []
  },
  {
   "cell_type": "markdown",
   "id": "9f41a6ff",
   "metadata": {},
   "source": [
    "Nagyszerű kérdéseket tettél fel, és **kettő is nagyon mély elméleti területet érint**, amelyek közül az első egy klasszikus szabályozástechnikai tétel, a második pedig a tanuló rendszerek konvergenciájának kérdése neurális becslőmodellekkel. Nézzük őket sorban:\n",
    "\n",
    "---\n",
    "\n",
    "## 🧭 1. **Mi az a perzisztens gerjesztés (Persistent Excitation, PE)?**\n",
    "\n",
    "Ez valóban **kulcsfontosságú elméleti feltétel** ahhoz, hogy az LTI modell paraméterei (pl. \\$A\\$, \\$B\\$, \\$C\\$, \\$D\\$) **helyesen és egyértelműen azonosíthatók legyenek**.\n",
    "\n",
    "### 📖 Formálisan:\n",
    "\n",
    "Egy szignál (pl. \\$u\\[k]\\$ vagy \\$x\\[k]\\$) **perzisztens gerjesztésű fokozatú**, ha:\n",
    "\n",
    "* a következő mátrix **pozitív definit** (azaz teljes rangú):\n",
    "\n",
    "$$\n",
    "\\sum_{k=t}^{t+N} \\phi[k] \\phi[k]^T \\succ 0\n",
    "$$\n",
    "\n",
    "ahol \\$\\phi\\[k]\\$ a regresszorvektor, pl. \\$(x\\[k], u\\[k])\\$.\n",
    "\n",
    "Egyszerűen fogalmazva:\n",
    "\n",
    "> A regressziós egyenletek (amiket például least squares-szel becsülsz) **csak akkor oldhatók meg egyértelműen**, ha a bemeneti és állapotváltozók **elég „változatos” információt hordoznak**.\n",
    "\n",
    "---\n",
    "\n",
    "### 🎯 Mit jelent ez intuitívan?\n",
    "\n",
    "Ha mindig **ugyanaz az \\$u\\[k]\\$ és \\$x\\[k]\\$** (vagy csak kis eltérések), akkor:\n",
    "\n",
    "* a rendszer **nem járja be a teljes állapottér egy érdemi részét**,\n",
    "* az algoritmus **nem kap elég információt a rendszer karakterisztikájáról**,\n",
    "* és így a becsült mátrixok **hibásak vagy nem stabilak** lesznek.\n",
    "\n",
    "---\n",
    "\n",
    "### ✅ Hogyan lehet PE-t biztosítani?\n",
    "\n",
    "Igen, pontosan ahogy te gondoltad:\n",
    "\n",
    "#### 1. Külső zavar (excitation):\n",
    "\n",
    "* pl. kis amplitúdójú fehér zaj hozzáadása a \\$u\\[k]\\$ bemenethez,\n",
    "* ez a klasszikus „zavarkeltés”,\n",
    "* iparban ezt gyakran „tesztfázisban” csinálják.\n",
    "\n",
    "#### 2. Tervezett referencia (pl. váltakozó \\$y\\_{ref}\\$):\n",
    "\n",
    "* Olyan szabályozási célokat választasz, amik **dinamikus bejárást eredményeznek** az állapottérben.\n",
    "\n",
    "#### 3. Kezdeti ideig explorációs szabályozás:\n",
    "\n",
    "* pl. ideiglenesen RL-szerű vezérlés, ami több állapotot fed le."
   ]
  },
  {
   "cell_type": "code",
   "execution_count": null,
   "id": "46a85174",
   "metadata": {},
   "outputs": [],
   "source": []
  },
  {
   "cell_type": "markdown",
   "id": "040939a0",
   "metadata": {},
   "source": [
    "Az $A$, $B$, $C$, $D$ mátrixok tanulása (vagy tágabban: a rendszerparaméterek empirikus becslése) csak akkor releváns probléma, ha a modellt nem ismerem teljes mértékben. Ez az egész kérdéskör — amit most tárgyalunk — az adatvezérelt (data-driven) szabályozás és az identifikáció-alapú szabályozás világába tartozik.\n",
    "\n",
    "Data-driven szabályozás (tanuláson alapuló irányzat)\n",
    "A modell nem ismert, vagy túl bonyolult ahhoz, hogy kézzel vagy analitikusan leírd. A rendszer viselkedését mérésekből próbálod megtanulni: regresszió (lineáris vagy nemlineáris), állapottér-becslés, vagy akár end-to-end policy tanulás (RL, imitáció). Itt a paraméterek ($A$, $B$, stb.) vagy a teljes rendszer \"tanítással\" születik meg.\n",
    "\n",
    "Ha a rendszer modellje rendelkezésre áll, akkor az identifikációs (tanulási) kérdések nem szükségszerűen relevánsak.\n",
    "\n",
    "De amint a modell: nem ismert, instabil, vagy időben változó, ott elkerülhetetlenek az adatvezérelt megközelítések, és ezek a kérdések kulcsfontosságúvá válnak."
   ]
  },
  {
   "cell_type": "code",
   "execution_count": null,
   "id": "663fb2d8",
   "metadata": {},
   "outputs": [],
   "source": []
  },
  {
   "cell_type": "code",
   "execution_count": null,
   "id": "9be84e74",
   "metadata": {},
   "outputs": [],
   "source": []
  }
 ],
 "metadata": {
  "hide_input": false,
  "kernelspec": {
   "display_name": "Python 3 (ipykernel)",
   "language": "python",
   "name": "python3"
  },
  "language_info": {
   "codemirror_mode": {
    "name": "ipython",
    "version": 3
   },
   "file_extension": ".py",
   "mimetype": "text/x-python",
   "name": "python",
   "nbconvert_exporter": "python",
   "pygments_lexer": "ipython3",
   "version": "3.8.10"
  }
 },
 "nbformat": 4,
 "nbformat_minor": 5
}
