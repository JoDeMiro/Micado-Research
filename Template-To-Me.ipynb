{
 "cells": [
  {
   "cell_type": "code",
   "execution_count": 1,
   "id": "754f28ca",
   "metadata": {},
   "outputs": [],
   "source": [
    "class Plotter:\n",
    "    def plot(self):\n",
    "        print(f\"A car.x értéke: {self.car.x}\")\n",
    "\n",
    "class Car:\n",
    "    def __init__(self):\n",
    "        self.x = 0\n",
    "        self.plotter = Plotter()\n",
    "        self.plotter.car = self  # átadom magamat\n",
    "\n",
    "    def run(self):\n",
    "        self.x = 42\n",
    "        self.plotter.plot()  # ki fogja írni: 42\n"
   ]
  },
  {
   "cell_type": "code",
   "execution_count": 2,
   "id": "e05bbd9b",
   "metadata": {},
   "outputs": [],
   "source": [
    "auto = Car()"
   ]
  },
  {
   "cell_type": "code",
   "execution_count": 3,
   "id": "48446656",
   "metadata": {},
   "outputs": [
    {
     "name": "stdout",
     "output_type": "stream",
     "text": [
      "A car.x értéke: 42\n"
     ]
    }
   ],
   "source": [
    "auto.run()"
   ]
  },
  {
   "cell_type": "code",
   "execution_count": null,
   "id": "713ac561",
   "metadata": {},
   "outputs": [],
   "source": []
  },
  {
   "cell_type": "code",
   "execution_count": 4,
   "id": "77eb9c64",
   "metadata": {},
   "outputs": [],
   "source": [
    "class Pletter:\n",
    "    def __init__(self):\n",
    "        pass\n",
    "    \n",
    "    def plot(self, car):\n",
    "        print(f'A car.x értéke: {car.x}')\n",
    "\n",
    "class Car:\n",
    "    def __init__(self):\n",
    "        self.x = 0\n",
    "        self.pletter = Pletter()\n",
    "    \n",
    "    def run(self):\n",
    "        self.x = 30\n",
    "        self.pletter.plot(self)"
   ]
  },
  {
   "cell_type": "code",
   "execution_count": 5,
   "id": "1e6f551a",
   "metadata": {},
   "outputs": [],
   "source": [
    "auto = Car()"
   ]
  },
  {
   "cell_type": "code",
   "execution_count": 6,
   "id": "d76f8a8b",
   "metadata": {},
   "outputs": [
    {
     "name": "stdout",
     "output_type": "stream",
     "text": [
      "A car.x értéke: 30\n"
     ]
    }
   ],
   "source": [
    "auto.run()"
   ]
  },
  {
   "cell_type": "code",
   "execution_count": null,
   "id": "fa127909",
   "metadata": {},
   "outputs": [],
   "source": []
  }
 ],
 "metadata": {
  "hide_input": false,
  "kernelspec": {
   "display_name": "Python 3 (ipykernel)",
   "language": "python",
   "name": "python3"
  },
  "language_info": {
   "codemirror_mode": {
    "name": "ipython",
    "version": 3
   },
   "file_extension": ".py",
   "mimetype": "text/x-python",
   "name": "python",
   "nbconvert_exporter": "python",
   "pygments_lexer": "ipython3",
   "version": "3.8.10"
  }
 },
 "nbformat": 4,
 "nbformat_minor": 5
}
