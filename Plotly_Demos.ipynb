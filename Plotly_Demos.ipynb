{
  "nbformat": 4,
  "nbformat_minor": 5,
  "metadata": {
    "kernelspec": {
      "display_name": "Python 3 (ipykernel)",
      "language": "python",
      "name": "python3"
    },
    "language_info": {
      "codemirror_mode": {
        "name": "ipython",
        "version": 3
      },
      "file_extension": ".py",
      "mimetype": "text/x-python",
      "name": "python",
      "nbconvert_exporter": "python",
      "pygments_lexer": "ipython3",
      "version": "3.8.10"
    },
    "colab": {
      "name": "Plotly Demos.ipynb",
      "provenance": [],
      "collapsed_sections": []
    }
  },
  "cells": [
    {
      "cell_type": "code",
      "metadata": {
        "id": "92ec6c0b"
      },
      "source": [
        "# Ezek ezerszer gyorsabbak mint a matplotlib ugyhogy inkább ezeket kéne használni"
      ],
      "id": "92ec6c0b",
      "execution_count": null,
      "outputs": []
    },
    {
      "cell_type": "markdown",
      "metadata": {
        "id": "d0932772"
      },
      "source": [
        "## Ploty Demos\n",
        "\n",
        "https://plotly.com/python/sliders/"
      ],
      "id": "d0932772"
    },
    {
      "cell_type": "code",
      "metadata": {
        "id": "d5db8a46"
      },
      "source": [
        "import plotly.graph_objects as go\n",
        "import numpy as np\n",
        "\n",
        "# Create figure\n",
        "fig = go.Figure()\n",
        "\n",
        "# Add traces, one for each slider step\n",
        "for step in np.arange(0, 5, 0.1):\n",
        "    fig.add_trace(\n",
        "        go.Scatter(\n",
        "            visible=False,\n",
        "            line=dict(color=\"#00CED1\", width=6),\n",
        "            name=\"𝜈 = \" + str(step),\n",
        "            x=np.arange(0, 10, 0.01),\n",
        "            y=np.sin(step * np.arange(0, 10, 0.01))))\n",
        "\n",
        "# Make 10th trace visible\n",
        "fig.data[10].visible = True\n",
        "\n",
        "# Create and add slider\n",
        "steps = []\n",
        "for i in range(len(fig.data)):\n",
        "    step = dict(\n",
        "        method=\"update\",\n",
        "        args=[{\"visible\": [False] * len(fig.data)},\n",
        "              {\"title\": \"Slider switched to step: \" + str(i)}],  # layout attribute\n",
        "    )\n",
        "    step[\"args\"][0][\"visible\"][i] = True  # Toggle i'th trace to \"visible\"\n",
        "    steps.append(step)\n",
        "\n",
        "sliders = [dict(\n",
        "    active=10,\n",
        "    currentvalue={\"prefix\": \"Frequency: \"},\n",
        "    pad={\"t\": 50},\n",
        "    steps=steps\n",
        ")]\n",
        "\n",
        "fig.update_layout(\n",
        "    sliders=sliders\n",
        ")\n",
        "\n",
        "fig.show()"
      ],
      "id": "d5db8a46",
      "execution_count": null,
      "outputs": []
    },
    {
      "cell_type": "code",
      "metadata": {
        "id": "a87e7865"
      },
      "source": [
        ""
      ],
      "id": "a87e7865",
      "execution_count": null,
      "outputs": []
    },
    {
      "cell_type": "code",
      "metadata": {
        "id": "cf60d139"
      },
      "source": [
        ""
      ],
      "id": "cf60d139",
      "execution_count": null,
      "outputs": []
    },
    {
      "cell_type": "code",
      "metadata": {
        "id": "19c8f0d9"
      },
      "source": [
        "import plotly.express as px\n",
        "\n",
        "df = px.data.gapminder()\n",
        "fig = px.scatter(df, x=\"gdpPercap\", y=\"lifeExp\", animation_frame=\"year\", animation_group=\"country\",\n",
        "           size=\"pop\", color=\"continent\", hover_name=\"country\",\n",
        "           log_x=True, size_max=55, range_x=[100,100000], range_y=[25,90])\n",
        "\n",
        "fig[\"layout\"].pop(\"updatemenus\") # optional, drop animation buttons\n",
        "fig.show()"
      ],
      "id": "19c8f0d9",
      "execution_count": null,
      "outputs": []
    },
    {
      "cell_type": "markdown",
      "metadata": {
        "id": "9a3d36df"
      },
      "source": [
        "## 3d-axes\n",
        "\n",
        "https://plotly.com/python/3d-axes/"
      ],
      "id": "9a3d36df"
    },
    {
      "cell_type": "code",
      "metadata": {
        "id": "f70c2878"
      },
      "source": [
        "import plotly.graph_objects as go\n",
        "import numpy as np\n",
        "np.random.seed(1)\n",
        "\n",
        "N = 70\n",
        "\n",
        "fig = go.Figure(data=[go.Mesh3d(x=(70*np.random.randn(N)),\n",
        "                   y=(55*np.random.randn(N)),\n",
        "                   z=(40*np.random.randn(N)),\n",
        "                   opacity=0.5,\n",
        "                   color='rgba(244,22,100,0.6)'\n",
        "                  )])\n",
        "\n",
        "fig.update_layout(\n",
        "    scene = dict(\n",
        "        xaxis = dict(nticks=4, range=[-100,100],),\n",
        "                     yaxis = dict(nticks=4, range=[-50,100],),\n",
        "                     zaxis = dict(nticks=4, range=[-100,100],),),\n",
        "    width=700,\n",
        "    margin=dict(r=20, l=10, b=10, t=10))\n",
        "\n",
        "fig.show()"
      ],
      "id": "f70c2878",
      "execution_count": null,
      "outputs": []
    },
    {
      "cell_type": "code",
      "metadata": {
        "id": "08185bf3"
      },
      "source": [
        "import plotly.graph_objects as go\n",
        "import numpy as np\n",
        "\n",
        "N = 50\n",
        "fig = go.Figure(data=[go.Mesh3d(x=(30*np.random.randn(N)),\n",
        "                   y=(25*np.random.randn(N)),\n",
        "                   z=(30*np.random.randn(N)),\n",
        "                   opacity=0.5,)])\n",
        "\n",
        "\n",
        "# xaxis.backgroundcolor is used to set background color\n",
        "fig.update_layout(scene = dict(\n",
        "                    xaxis = dict(\n",
        "                         backgroundcolor=\"rgb(200, 200, 230)\",\n",
        "                         gridcolor=\"white\",\n",
        "                         showbackground=True,\n",
        "                         zerolinecolor=\"white\",),\n",
        "                    yaxis = dict(\n",
        "                        backgroundcolor=\"rgb(230, 200,230)\",\n",
        "                        gridcolor=\"white\",\n",
        "                        showbackground=True,\n",
        "                        zerolinecolor=\"white\"),\n",
        "                    zaxis = dict(\n",
        "                        backgroundcolor=\"rgb(230, 230,200)\",\n",
        "                        gridcolor=\"white\",\n",
        "                        showbackground=True,\n",
        "                        zerolinecolor=\"white\",),),\n",
        "                    width=700,\n",
        "                    margin=dict(\n",
        "                    r=10, l=10,\n",
        "                    b=10, t=10)\n",
        "                  )\n",
        "fig.show()"
      ],
      "id": "08185bf3",
      "execution_count": null,
      "outputs": []
    },
    {
      "cell_type": "code",
      "metadata": {
        "id": "6e554c8d"
      },
      "source": [
        "import plotly.graph_objects as go\n",
        "import numpy as np\n",
        "\n",
        "N = 50\n",
        "fig = go.Figure(data=[go.Mesh3d(x=(30*np.random.randn(N)),\n",
        "                   y=(25*np.random.randn(N)),\n",
        "                   z=(30*np.random.randn(N)),\n",
        "                   opacity=0.5,)])\n",
        "fig.update_layout(scene=dict(xaxis_showspikes=False,\n",
        "                             yaxis_showspikes=False))\n",
        "fig.show()"
      ],
      "id": "6e554c8d",
      "execution_count": null,
      "outputs": []
    },
    {
      "cell_type": "markdown",
      "metadata": {
        "id": "cd64a06b"
      },
      "source": [
        "## 3D Scatter Plots\n",
        "\n",
        "https://plotly.com/python/3d-scatter-plots/"
      ],
      "id": "cd64a06b"
    },
    {
      "cell_type": "code",
      "metadata": {
        "id": "3eb35738"
      },
      "source": [
        "import plotly.express as px"
      ],
      "id": "3eb35738",
      "execution_count": null,
      "outputs": []
    },
    {
      "cell_type": "code",
      "metadata": {
        "scrolled": false,
        "id": "6b6767f1"
      },
      "source": [
        "df = px.data.iris()\n",
        "fig = px.scatter_3d(df, x='sepal_length', y='sepal_width', z='petal_width',\n",
        "              color='species')\n",
        "fig.show()"
      ],
      "id": "6b6767f1",
      "execution_count": null,
      "outputs": []
    },
    {
      "cell_type": "code",
      "metadata": {
        "id": "65884e39"
      },
      "source": [
        "df = px.data.iris()\n",
        "fig = px.scatter_3d(df, x='sepal_length', y='sepal_width', z='petal_width',\n",
        "                    color='petal_length', symbol='species')\n",
        "fig.show()"
      ],
      "id": "65884e39",
      "execution_count": null,
      "outputs": []
    },
    {
      "cell_type": "code",
      "metadata": {
        "id": "339ec1cb"
      },
      "source": [
        "def function():\n",
        "    # df = px.data.iris()\n",
        "    # fig = px.scatter_3d(df, x='sepal_length', y='sepal_width', z='petal_width',\n",
        "    #                    color='petal_length', symbol='species')\n",
        "    fig.show()"
      ],
      "id": "339ec1cb",
      "execution_count": null,
      "outputs": []
    },
    {
      "cell_type": "code",
      "metadata": {
        "id": "3fa788f4"
      },
      "source": [
        "%time function()"
      ],
      "id": "3fa788f4",
      "execution_count": null,
      "outputs": []
    },
    {
      "cell_type": "code",
      "metadata": {
        "id": "1b222a96"
      },
      "source": [
        "df = px.data.iris()\n",
        "fig = px.scatter_3d(df, x='sepal_length', y='sepal_width', z='petal_width',\n",
        "              color='petal_length', size='petal_length', size_max=18,\n",
        "              symbol='species', opacity=0.7)\n",
        "\n",
        "# tight layout\n",
        "fig.update_layout(margin=dict(l=0, r=0, b=0, t=0))"
      ],
      "id": "1b222a96",
      "execution_count": null,
      "outputs": []
    },
    {
      "cell_type": "markdown",
      "metadata": {
        "id": "abb5b401"
      },
      "source": [
        "## 3D Scatter Plot\n",
        "\n",
        "https://plotly.com/python/3d-scatter-plots/"
      ],
      "id": "abb5b401"
    },
    {
      "cell_type": "code",
      "metadata": {
        "id": "14bf2305"
      },
      "source": [
        "import plotly.graph_objects as go\n",
        "import numpy as np\n",
        "\n",
        "# Helix equation\n",
        "t = np.linspace(0, 10, 50)\n",
        "x, y, z = np.cos(t), np.sin(t), t\n",
        "\n",
        "fig = go.Figure(data=[go.Scatter3d(x=x, y=y, z=z,\n",
        "                                   mode='markers')])\n",
        "fig.show()"
      ],
      "id": "14bf2305",
      "execution_count": null,
      "outputs": []
    },
    {
      "cell_type": "code",
      "metadata": {
        "id": "3158af12"
      },
      "source": [
        "# Helix equation\n",
        "t = np.linspace(0, 20, 100)\n",
        "x, y, z = np.cos(t), np.sin(t), t\n",
        "\n",
        "fig = go.Figure(data=[go.Scatter3d(\n",
        "    x=x,\n",
        "    y=y,\n",
        "    z=z,\n",
        "    mode='markers',\n",
        "    marker=dict(\n",
        "        size=12,\n",
        "        color=z,                # set color to an array/list of desired values\n",
        "        colorscale='Viridis',   # choose a colorscale\n",
        "        opacity=0.8\n",
        "    )\n",
        ")])\n",
        "\n",
        "# tight layout\n",
        "fig.update_layout(margin=dict(l=0, r=0, b=0, t=0))\n",
        "fig.show()"
      ],
      "id": "3158af12",
      "execution_count": null,
      "outputs": []
    },
    {
      "cell_type": "markdown",
      "metadata": {
        "id": "e2c8b1dd"
      },
      "source": [
        "## 3D Surface\n",
        "\n",
        "https://plotly.com/python/3d-surface-plots/"
      ],
      "id": "e2c8b1dd"
    },
    {
      "cell_type": "code",
      "metadata": {
        "id": "0599007c"
      },
      "source": [
        "import plotly.graph_objects as go\n",
        "\n",
        "import pandas as pd\n",
        "\n",
        "# Read data from a csv\n",
        "z_data = pd.read_csv('https://raw.githubusercontent.com/plotly/datasets/master/api_docs/mt_bruno_elevation.csv')"
      ],
      "id": "0599007c",
      "execution_count": null,
      "outputs": []
    },
    {
      "cell_type": "code",
      "metadata": {
        "id": "3613bab3"
      },
      "source": [
        "fig = go.Figure(data=[go.Surface(z=z_data.values)])\n",
        "\n",
        "fig.update_layout(title='Mt Bruno Elevation', autosize=False,\n",
        "                  width=500, height=500,\n",
        "                  margin=dict(l=65, r=50, b=65, t=90))\n",
        "\n",
        "fig.show()"
      ],
      "id": "3613bab3",
      "execution_count": null,
      "outputs": []
    },
    {
      "cell_type": "code",
      "metadata": {
        "id": "d55c7abd"
      },
      "source": [
        "fig = go.Figure(data=[go.Surface(z=z_data.values)])\n",
        "fig.update_traces(contours_z=dict(show=True, usecolormap=True,\n",
        "                                  highlightcolor=\"limegreen\", project_z=True))\n",
        "fig.update_layout(title='Mt Bruno Elevation', autosize=False,\n",
        "                  scene_camera_eye=dict(x=1.87, y=0.88, z=-0.64),\n",
        "                  width=500, height=500,\n",
        "                  margin=dict(l=65, r=50, b=65, t=90)\n",
        ")\n",
        "\n",
        "fig.show()"
      ],
      "id": "d55c7abd",
      "execution_count": null,
      "outputs": []
    },
    {
      "cell_type": "code",
      "metadata": {
        "id": "4eedf635"
      },
      "source": [
        "z1 = np.array([\n",
        "    [8.83,8.89,8.81,8.87,8.9,8.87],\n",
        "    [8.89,8.94,8.85,8.94,8.96,8.92],\n",
        "    [8.84,8.9,8.82,8.92,8.93,8.91],\n",
        "    [8.79,8.85,8.79,8.9,8.94,8.92],\n",
        "    [8.79,8.88,8.81,8.9,8.95,8.92],\n",
        "    [8.8,8.82,8.78,8.91,8.94,8.92],\n",
        "    [8.75,8.78,8.77,8.91,8.95,8.92],\n",
        "    [8.8,8.8,8.77,8.91,8.95,8.94],\n",
        "    [8.74,8.81,8.76,8.93,8.98,8.99],\n",
        "    [8.89,8.99,8.92,9.1,9.13,9.11],\n",
        "    [8.97,8.97,8.91,9.09,9.11,9.11],\n",
        "    [9.04,9.08,9.05,9.25,9.28,9.27],\n",
        "    [9,9.01,9,9.2,9.23,9.2],\n",
        "    [8.99,8.99,8.98,9.18,9.2,9.19],\n",
        "    [8.93,8.97,8.97,9.18,9.2,9.18]\n",
        "])\n",
        "\n",
        "z2 = z1 + 1\n",
        "z3 = z1 - 1\n",
        "\n",
        "fig = go.Figure(data=[\n",
        "    go.Surface(z=z1),\n",
        "    go.Surface(z=z2, showscale=False, opacity=0.9),\n",
        "    go.Surface(z=z3, showscale=False, opacity=0.9)\n",
        "\n",
        "])\n",
        "\n",
        "fig.show()"
      ],
      "id": "4eedf635",
      "execution_count": null,
      "outputs": []
    },
    {
      "cell_type": "code",
      "metadata": {
        "id": "1de3bdca"
      },
      "source": [
        "import plotly.graph_objects as go\n",
        "from plotly.subplots import make_subplots"
      ],
      "id": "1de3bdca",
      "execution_count": null,
      "outputs": []
    },
    {
      "cell_type": "code",
      "metadata": {
        "id": "242114cf"
      },
      "source": [
        "# Equation of ring cyclide\n",
        "# see https://en.wikipedia.org/wiki/Dupin_cyclide\n",
        "\n",
        "a, b, d = 1.32, 1., 0.8\n",
        "c = a**2 - b**2\n",
        "u, v = np.mgrid[0:2*np.pi:100j, 0:2*np.pi:100j]\n",
        "x = (d * (c - a * np.cos(u) * np.cos(v)) + b**2 * np.cos(u)) / (a - c * np.cos(u) * np.cos(v))\n",
        "y = b * np.sin(u) * (a - d*np.cos(v)) / (a - c * np.cos(u) * np.cos(v))\n",
        "z = b * np.sin(v) * (c*np.cos(u) - d) / (a - c * np.cos(u) * np.cos(v))\n",
        "\n",
        "fig = make_subplots(rows=1, cols=2,\n",
        "                    specs=[[{'is_3d': True}, {'is_3d': True}]],\n",
        "                    subplot_titles=['Color corresponds to z', 'Color corresponds to distance to origin'],\n",
        "                    )\n",
        "\n",
        "fig.add_trace(go.Surface(x=x, y=y, z=z, colorbar_x=-0.07), 1, 1)\n",
        "fig.add_trace(go.Surface(x=x, y=y, z=z, surfacecolor=x**2 + y**2 + z**2), 1, 2)\n",
        "fig.update_layout(title_text=\"Ring cyclide\")\n",
        "fig.show()"
      ],
      "id": "242114cf",
      "execution_count": null,
      "outputs": []
    },
    {
      "cell_type": "markdown",
      "metadata": {
        "id": "db9b6c79"
      },
      "source": [
        "## 3D Subplots\n",
        "\n",
        "https://plotly.com/python/3d-subplots/"
      ],
      "id": "db9b6c79"
    },
    {
      "cell_type": "code",
      "metadata": {
        "id": "64a76265"
      },
      "source": [
        "import plotly.graph_objects as go\n",
        "from plotly.subplots import make_subplots\n",
        "\n",
        "# Initialize figure with 4 3D subplots\n",
        "\n",
        "fig = make_subplots(\n",
        "    rows=2, cols=2,\n",
        "    specs=[[{'type': 'surface'}, {'type': 'surface'}],\n",
        "           [{'type': 'surface'}, {'type': 'surface'}]])\n",
        "\n",
        "# Generate data\n",
        "x = np.linspace(-5, 80, 10)\n",
        "y = np.linspace(-5, 60, 10)\n",
        "xGrid, yGrid = np.meshgrid(y, x)\n",
        "z = xGrid ** 3 + yGrid ** 3\n",
        "\n",
        "# adding surfaces to subplots.\n",
        "fig.add_trace(\n",
        "    go.Surface(x=x, y=y, z=z, colorscale='Viridis', showscale=False),\n",
        "    row=1, col=1)\n",
        "\n",
        "fig.add_trace(\n",
        "    go.Surface(x=x, y=y, z=z, colorscale='RdBu', showscale=False),\n",
        "    row=1, col=2)\n",
        "\n",
        "fig.add_trace(\n",
        "    go.Surface(x=x, y=y, z=z, colorscale='YlOrRd', showscale=False),\n",
        "    row=2, col=1)\n",
        "\n",
        "fig.add_trace(\n",
        "    go.Surface(x=x, y=y, z=z, colorscale='YlGnBu', showscale=False),\n",
        "    row=2, col=2)\n",
        "\n",
        "fig.update_layout(\n",
        "    title_text='3D subplots with different colorscales',\n",
        "    height=800,\n",
        "    width=800\n",
        ")\n",
        "\n",
        "fig.show()"
      ],
      "id": "64a76265",
      "execution_count": null,
      "outputs": []
    },
    {
      "cell_type": "code",
      "metadata": {
        "id": "35d64eec"
      },
      "source": [
        ""
      ],
      "id": "35d64eec",
      "execution_count": null,
      "outputs": []
    },
    {
      "cell_type": "code",
      "metadata": {
        "id": "66b39e4d"
      },
      "source": [
        ""
      ],
      "id": "66b39e4d",
      "execution_count": null,
      "outputs": []
    }
  ]
}